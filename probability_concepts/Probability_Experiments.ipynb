{
 "cells": [
  {
   "cell_type": "code",
   "execution_count": 1,
   "id": "90f26fa6",
   "metadata": {},
   "outputs": [],
   "source": [
    "import numpy as np\n",
    "np.random.seed(0)"
   ]
  },
  {
   "cell_type": "markdown",
   "id": "dece590b",
   "metadata": {},
   "source": [
    "# Conditional Probabilities\n",
    "---\n",
    "## Problem Statement\n",
    "In a foreign country, the sun shines with probability $s \\in (0, 1)$ on average. Two institutes forecast the weather every day; they only predict whether the day will be sunny, and conduct their predictions independently. Institute A is right with probability $a$ and institute B with probability $b$ independently of what they predict. We note $S$ the event “the day will be sunny”, and $A_S$ (resp. $B_S$) the event “institute A predicts a sunny day” (resp. institute B).\n",
    "\n",
    "For numerical applications, we will take $s = 0.8$, $a = 0.95$, and $b = 0.9$.\n",
    "\n",
    "1. What is the probability of $A_S$? Give your answer in terms of the problem parameters first, and then do the numerical application.\n",
    "\n",
    "2. One day, institute A says that the day will not be sunny, whereas institute B forecasts that it will. What is the probability that I can enjoy a sunny day? Give your answer in terms of the problem parameters first, and then do the numerical application with 3 significant digits.\n"
   ]
  },
  {
   "cell_type": "markdown",
   "id": "9c6de933",
   "metadata": {},
   "source": [
    "## Solution\n",
    "### 1)\n",
    "Probability of $A_S$ can be computed as-\n",
    "$$\n",
    "\\begin{split}\n",
    "P(A_s)&= P(A_S|S)p(S)+P(A_S|S^c)P(S^c)\\\\\n",
    "&= a s + (1-a)(1-s)\\\\\n",
    "&= 0.77\n",
    "\\end{split}\n",
    "$$\n",
    "\n",
    "Similarly probability of $B_S$ can be computed as-\n",
    "$$\n",
    "\\begin{split}\n",
    "P(B_s)&= P(B_S|S)p(S)+P(B_S|S^c)P(S^c)\\\\\n",
    "&= b s + (1-b)(1-s)\\\\\n",
    "&= 0.74\n",
    "\\end{split}\n",
    "$$\n",
    "This situation is simulated in the next two cells."
   ]
  },
  {
   "cell_type": "code",
   "execution_count": 2,
   "id": "4bb486a6",
   "metadata": {},
   "outputs": [],
   "source": [
    "# function to simulate one day as per the above conditions\n",
    "def simulate(s,a,b):\n",
    "    #simulate events S, A_s and B_s for one day\n",
    "    S=np.random.choice(a=[1,0],p=[s,1-s])\n",
    "    A=np.random.choice(a=[S,1-S],p=[a,1-a])\n",
    "    B=np.random.choice(a=[S,1-S],p=[b,1-b])\n",
    "    return S,A,B"
   ]
  },
  {
   "cell_type": "code",
   "execution_count": 3,
   "id": "75f8a19d",
   "metadata": {},
   "outputs": [
    {
     "name": "stdout",
     "output_type": "stream",
     "text": [
      "Simulated P(S)= 0.800054794520548\n",
      "Simulated P(A_S)= 0.7716712328767124\n",
      "Simulated P(B_S)= 0.7368767123287672\n"
     ]
    }
   ],
   "source": [
    "s=0.8\n",
    "a=0.95\n",
    "b=0.9\n",
    "N_days=50*365 #number of days to run the simulation for\n",
    "result=np.zeros((3,N_days))\n",
    "#run simulation for N_days days\n",
    "for day in range(N_days):\n",
    "    result[:,day]=simulate(s,a,b)\n",
    "    \n",
    "probs1=np.average(result,axis=1)#the results should coincide with P(S), P(A_s) and P(B_s)\n",
    "print(\"Simulated P(S)=\",probs1[0])#should be close to a\n",
    "print(\"Simulated P(A_S)=\",probs1[1])#should be close to P(A_S) from above\n",
    "print(\"Simulated P(B_S)=\",probs1[2])#should be close to P(B_S) from above"
   ]
  },
  {
   "cell_type": "markdown",
   "id": "cd9204a0",
   "metadata": {},
   "source": [
    "### 2)\n",
    "The required probability is $P(S|A_S^c\\cap B_S)$, which can be calculated as per Bayes theorem-\n",
    "\\begin{equation}\n",
    "\\begin{split}\n",
    "P(S|A_S^c\\cap B_S)&= \\frac{P(A_S^c\\cap B_S|S)P(S)}{P(A_S^c\\cap B_S)}\n",
    "\\end{split}\n",
    "\\end{equation}\n",
    "\n",
    "One thing to note is that although A and B predict independently, their prediction of a day being sunny is statistically dependent on whether it is actually Sunny. Hence, $A_S^c$ and $B_S$ are not independent events. However, if we consider $A_S^c \\cap S$ and $B_S^c \\cap S$ on their own, these are independent (need to formally show this). Taking this into account,\n",
    "\n",
    "\\begin{equation}\n",
    "\\begin{split}\n",
    "P(A_S^c\\cap B_S|S)&=P(A_S^c|S) P(B_S|S)\\\\\n",
    "&= (1-a)b\n",
    "\\end{split}\n",
    "\\end{equation}\n",
    "\n",
    "\\begin{equation}\n",
    "\\begin{split}\n",
    "P(A_S^c\\cap B_S|S^c)&=P(A_S^c|S^c) P(B_S|S^c)\\\\\n",
    "&=a(1-b)\n",
    "\\end{split}\n",
    "\\end{equation}\n",
    "\n",
    "\\begin{equation}\n",
    "\\begin{split}\n",
    "P(A_S^c\\cap B_S)&=P(A_S^c\\cap B_S|S)P(S)+P(A_S^c\\cap B_S|S^c)P(S^c)\\\\\n",
    "&=(1-a)bs+a(1-b)(1-s)\n",
    "\\end{split}\n",
    "\\end{equation}\n",
    "\n",
    "Finally,\n",
    "\\begin{equation}\n",
    "\\begin{split}\n",
    "P(S|A_S^c\\cap B_S)&= \\frac{P(A_S^c\\cap B_S|S)P(S)}{P(A_S^c\\cap B_S)}\\\\\n",
    "&=\\frac{(1-a)bs}{(1-a)bs+a(1-b)(1-s)}\\\\\n",
    "&\\approx 0.655\n",
    "\\end{split}\n",
    "\\end{equation}\n",
    "This is simulated in the following cell"
   ]
  },
  {
   "cell_type": "code",
   "execution_count": 4,
   "id": "e4341bfb",
   "metadata": {
    "scrolled": true
   },
   "outputs": [
    {
     "name": "stdout",
     "output_type": "stream",
     "text": [
      "Simulated P(S|A_S^c intersection B_S)= 0.6571729957805907\n"
     ]
    }
   ],
   "source": [
    "Ac_B=np.logical_and(result[1,:]==0,result[2,:]==1)# column indices for A_s^c intersection B_s\n",
    "res_Ac_B=result[:,Ac_B]#take the required columns from the results array\n",
    "probs2=np.average(res_Ac_B,axis=1) #get probabilities\n",
    "print(\"Simulated P(S|A_S^c intersection B_S)=\",probs2[0])"
   ]
  }
 ],
 "metadata": {
  "kernelspec": {
   "display_name": "Python 3 (ipykernel)",
   "language": "python",
   "name": "python3"
  },
  "language_info": {
   "codemirror_mode": {
    "name": "ipython",
    "version": 3
   },
   "file_extension": ".py",
   "mimetype": "text/x-python",
   "name": "python",
   "nbconvert_exporter": "python",
   "pygments_lexer": "ipython3",
   "version": "3.9.7"
  }
 },
 "nbformat": 4,
 "nbformat_minor": 5
}
